{
 "cells": [
  {
   "cell_type": "code",
   "execution_count": 1,
   "metadata": {},
   "outputs": [],
   "source": [
    "from googlenet.src.googlenet import GoogleNet\n",
    "from googlenet_for_test"
   ]
  },
  {
   "cell_type": "code",
   "execution_count": 2,
   "metadata": {},
   "outputs": [],
   "source": [
    "#Set context\n",
    "import os\n",
    "import argparse\n",
    "from mindspore import context\n",
    "\n",
    "parser = argparse.ArgumentParser(description='Demo')\n",
    "parser.add_argument('--device_target', type=str, default=\"Ascend\", choices=['Ascend', 'GPU', 'CPU'])\n",
    "\n",
    "args = parser.parse_known_args()[0]\n",
    "context.set_context(mode=context.GRAPH_MODE, device_target=args.device_target)"
   ]
  },
  {
   "cell_type": "code",
   "execution_count": 3,
   "metadata": {},
   "outputs": [],
   "source": [
    "#Instantiate GoogleNet model\n",
    "googlenet = GoogleNet(2)"
   ]
  },
  {
   "cell_type": "code",
   "execution_count": 4,
   "metadata": {
    "scrolled": true
   },
   "outputs": [],
   "source": [
    "import mindspore.dataset as ds\n",
    "import mindspore.dataset.transforms.c_transforms as C\n",
    "import mindspore.dataset.vision.c_transforms as CV\n",
    "from mindspore import dtype as mstype\n",
    "\n",
    "def create_dataset(dataset_path,\n",
    "                   num_parallel_workers=1):\n",
    "    # Define the dataset with Image Processing\n",
    "    dataset = ds.ImageFolderDataset(dataset_path, class_indexing = {\"Covid\": 1, \"Non_Covid\":0})\n",
    "    decode_op = vision.Decode()\n",
    "    resize_height, resize_width = 224, 224\n",
    "    resize_op = vision.Resize((resize_height, resize_width))\n",
    "    type_cast_op = C.TypeCast(mstype.float32)\n",
    "    changeswap_op = vision.HWC2CHW()\n",
    "    \n",
    "    #Data Augmentation\n",
    "    horizontal_flip = vision.RandomHorizontalFlip(prob=0.8)\n",
    "    rotate = vision.RandomRotation(20)\n",
    "    vertical_flip = vision.RandomVerticalFlip(prob=0.5)\n",
    "    \n",
    "    augment_list = [horizontal_flip, rotate, vertical_flip]\n",
    "    \n",
    "    dataset = dataset.map(operations=decode_op, input_columns=\"image\", num_parallel_workers=num_parallel_workers)\n",
    "    dataset = dataset.map(operations=resize_op, input_columns=\"image\", num_parallel_workers=num_parallel_workers)\n",
    "    dataset = dataset.map(operations=type_cast_op, input_columns=\"image\", num_parallel_workers=num_parallel_workers)\n",
    "    dataset = dataset.map(operations=changeswap_op, input_columns=\"image\", num_parallel_workers=num_parallel_workers)\n",
    "    \n",
    "    dataset = dataset.map(operations = augment_list, input_columns = \"image\", num_parallel_workers=num_parallel_workers)\n",
    "    \n",
    "    buffer_size = 10\n",
    "    dataset = dataset.shuffle(buffer_size=buffer_size)\n",
    "    dataset = dataset.batch(cifar_cfg.batch_size, drop_remainder=True)\n",
    "\n",
    "    return dataset\n",
    "\n",
    "\n",
    "train_ds = create_dataset(data_path=\"/home/Hachathon_Team_7/Challenge/datasets/train/\")\n"
   ]
  },
  {
   "cell_type": "code",
   "execution_count": 5,
   "metadata": {},
   "outputs": [],
   "source": [
    "import mindspore.nn as nn\n",
    "# Define the loss function.\n",
    "googlenet_loss = nn.SoftmaxCrossEntropyWithLogits(sparse=True, reduction='mean')\n",
    "# Define the optimizer.\n",
    "googlenet_opt = nn.Momentum(googlenet.trainable_params(), learning_rate=0.01, momentum=0.9)"
   ]
  },
  {
   "cell_type": "code",
   "execution_count": 6,
   "metadata": {},
   "outputs": [],
   "source": [
    "# Import the library required for model training.\n",
    "from mindspore.nn import Accuracy\n",
    "from mindspore import Model\n",
    "\n",
    "train_epoch = 100\n",
    "\n",
    "train = train_ds\n",
    "model = Model(googlenet, googlenet_loss, googlenet_opt, metrics={\"Accuracy\": Accuracy()})"
   ]
  },
  {
   "cell_type": "code",
   "execution_count": null,
   "metadata": {},
   "outputs": [],
   "source": [
    "#Train model\n",
    "model.train(train_epoch,train)"
   ]
  },
  {
   "cell_type": "code",
   "execution_count": null,
   "metadata": {},
   "outputs": [],
   "source": []
  }
 ],
 "metadata": {
  "kernelspec": {
   "display_name": "Python 3",
   "language": "python",
   "name": "python3"
  },
  "language_info": {
   "codemirror_mode": {
    "name": "ipython",
    "version": 3
   },
   "file_extension": ".py",
   "mimetype": "text/x-python",
   "name": "python",
   "nbconvert_exporter": "python",
   "pygments_lexer": "ipython3",
   "version": "3.7.5"
  }
 },
 "nbformat": 4,
 "nbformat_minor": 4
}
